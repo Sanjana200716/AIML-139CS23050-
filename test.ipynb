{
 "cells": [
  {
   "cell_type": "code",
   "execution_count": 63,
   "metadata": {},
   "outputs": [
    {
     "name": "stdout",
     "output_type": "stream",
     "text": [
      "   match no        date    opponents  runs  balls\n",
      "0         1  1990-02-13        india     6     10\n",
      "1         2  1999-07-13        delhi     4     12\n",
      "2         3  2000-07-13  maharashtra     5     15\n",
      "3         4  2001-07-13    bangalore     8     20\n",
      "4         5  2002-07-13      maisoor     9     18\n"
     ]
    },
    {
     "data": {
      "text/plain": [
       "sum       32.000000\n",
       "min        4.000000\n",
       "max        9.000000\n",
       "mean       6.400000\n",
       "median     6.000000\n",
       "count      5.000000\n",
       "var        4.300000\n",
       "std        2.073644\n",
       "Name: runs, dtype: float64"
      ]
     },
     "execution_count": 63,
     "metadata": {},
     "output_type": "execute_result"
    }
   ],
   "source": [
    "import pandas as pd \n",
    "import datetime as datetime\n",
    "data={\n",
    "    'match no':[1,2,3,4,5],\n",
    "    'date':['1990-02-13','1999-07-13','2000-07-13','2001-07-13','2002-07-13'],\n",
    "    'opponents':['india','delhi','maharashtra','bangalore','maisoor'],\n",
    "    'runs':[6,4,5,8,9],\n",
    "    'balls':[10,12,15,20,18]\n",
    "}\n",
    "df=pd.DataFrame(data)\n",
    "print(df)\n",
    "df['runs'].agg(['sum','min','max','mean','median','count','var','std'])"
   ]
  },
  {
   "cell_type": "code",
   "execution_count": 64,
   "metadata": {},
   "outputs": [
    {
     "data": {
      "text/plain": [
       "opponents\n",
       "bangalore      8\n",
       "delhi          4\n",
       "india          6\n",
       "maharashtra    5\n",
       "maisoor        9\n",
       "Name: runs, dtype: int64"
      ]
     },
     "execution_count": 64,
     "metadata": {},
     "output_type": "execute_result"
    }
   ],
   "source": [
    "df.groupby('opponents')['runs'].mean()"
   ]
  },
  {
   "cell_type": "code",
   "execution_count": 65,
   "metadata": {},
   "outputs": [
    {
     "name": "stdout",
     "output_type": "stream",
     "text": [
      "DatetimeIndex(['1990-02-13 00:00:00', '1990-02-13 01:00:00',\n",
      "               '1990-02-13 02:00:00', '1990-02-13 03:00:00',\n",
      "               '1990-02-13 04:00:00', '1990-02-13 05:00:00',\n",
      "               '1990-02-13 06:00:00', '1990-02-13 07:00:00',\n",
      "               '1990-02-13 08:00:00', '1990-02-13 09:00:00',\n",
      "               ...\n",
      "               '2000-07-12 15:00:00', '2000-07-12 16:00:00',\n",
      "               '2000-07-12 17:00:00', '2000-07-12 18:00:00',\n",
      "               '2000-07-12 19:00:00', '2000-07-12 20:00:00',\n",
      "               '2000-07-12 21:00:00', '2000-07-12 22:00:00',\n",
      "               '2000-07-12 23:00:00', '2000-07-13 00:00:00'],\n",
      "              dtype='datetime64[ns]', length=91273, freq='H')\n"
     ]
    }
   ],
   "source": [
    "import pandas as pd\n",
    "import datetime as datetime\n",
    "range_date=pd.date_range(start='1990-02-13',end='2000-07-13',freq='h')\n",
    "print(range_date)"
   ]
  },
  {
   "cell_type": "code",
   "execution_count": 66,
   "metadata": {},
   "outputs": [
    {
     "name": "stdout",
     "output_type": "stream",
     "text": [
      "[10, 12, 15, 20, 18]\n"
     ]
    }
   ],
   "source": [
    "data={\n",
    "    'match no':[1,2,3,4,5],\n",
    "    'date':['1990-02-13','1999-07-13','2000-07-13','2001-07-13','2002-07-13'],\n",
    "    'opponents':['india','delhi','maharashtra','bangalore','maisoor'],\n",
    "    'runs':[6,4,5,8,9],\n",
    "    'balls':[10,12,15,20,18]\n",
    "}\n",
    "df=pd.DataFrame(data)\n",
    "fil=list(filter(lambda x: x>5, df['balls']))\n",
    "print(fil)"
   ]
  },
  {
   "cell_type": "code",
   "execution_count": 67,
   "metadata": {},
   "outputs": [
    {
     "name": "stdout",
     "output_type": "stream",
     "text": [
      "0    6.10\n",
      "1    4.12\n",
      "2    5.15\n",
      "3    8.20\n",
      "4    9.18\n",
      "Name: opponents, dtype: float64\n"
     ]
    }
   ],
   "source": [
    "df['opponents']=df['runs']+df['balls']/100\n",
    "print(df['opponents'])"
   ]
  },
  {
   "cell_type": "code",
   "execution_count": 68,
   "metadata": {},
   "outputs": [
    {
     "name": "stdout",
     "output_type": "stream",
     "text": [
      "0    10\n",
      "1    20\n",
      "2    30\n",
      "2    60\n",
      "3    70\n",
      "4    80\n",
      "dtype: int64\n"
     ]
    }
   ],
   "source": [
    "import pandas as pd\n",
    "a=pd.Series([10,20,30,40,50])\n",
    "b=pd.Series([40,50,60,70,80])\n",
    "c=pd.concat([a,b]).drop_duplicates(keep=False)\n",
    "print(c)"
   ]
  },
  {
   "cell_type": "code",
   "execution_count": 69,
   "metadata": {},
   "outputs": [
    {
     "name": "stdout",
     "output_type": "stream",
     "text": [
      "10\n",
      "50\n"
     ]
    }
   ],
   "source": [
    "print(a.min())\n",
    "print(a.max())"
   ]
  },
  {
   "cell_type": "code",
   "execution_count": 70,
   "metadata": {},
   "outputs": [
    {
     "name": "stdout",
     "output_type": "stream",
     "text": [
      "300\n"
     ]
    }
   ],
   "source": [
    "print(b.sum())"
   ]
  },
  {
   "cell_type": "code",
   "execution_count": 71,
   "metadata": {},
   "outputs": [
    {
     "name": "stdout",
     "output_type": "stream",
     "text": [
      "30.0\n"
     ]
    }
   ],
   "source": [
    "print(a.mean())"
   ]
  },
  {
   "cell_type": "code",
   "execution_count": 72,
   "metadata": {},
   "outputs": [
    {
     "name": "stdout",
     "output_type": "stream",
     "text": [
      "60.0\n"
     ]
    }
   ],
   "source": [
    "print(b.median())"
   ]
  },
  {
   "cell_type": "code",
   "execution_count": 73,
   "metadata": {},
   "outputs": [
    {
     "name": "stdout",
     "output_type": "stream",
     "text": [
      "   Roll_No    Name  Age  Marks_math  Marks_Engg Gender\n",
      "0      101    Riya   17          88          92      F\n",
      "1      102   Arjun   18          75          85      M\n",
      "2      103   Sneha   17          90          78      F\n",
      "3      104  Rakesh   19          65          70      M\n",
      "4      105   Aditi   18          95          88      F\n"
     ]
    }
   ],
   "source": [
    "import pandas as pd\n",
    "data={\n",
    "    'Roll_No':[101,102,103,104,105],\n",
    "    'Name':['Riya','Arjun','Sneha','Rakesh','Aditi'],\n",
    "    'Age':[17,18,17,19,18],\n",
    "    'Marks_math':[88,75,90,65,95],\n",
    "    'Marks_Engg':[92,85,78,70,88],\n",
    "    'Gender':['F','M','F','M','F']\n",
    "}\n",
    "df=pd.DataFrame(data)\n",
    "print(df)"
   ]
  },
  {
   "cell_type": "code",
   "execution_count": 74,
   "metadata": {},
   "outputs": [
    {
     "name": "stdout",
     "output_type": "stream",
     "text": [
      "     Name  Marks_Engg\n",
      "0    Riya          92\n",
      "1   Arjun          85\n",
      "2   Sneha          78\n",
      "3  Rakesh          70\n",
      "4   Aditi          88\n"
     ]
    }
   ],
   "source": [
    "print(df[['Name','Marks_Engg']])"
   ]
  },
  {
   "cell_type": "code",
   "execution_count": 75,
   "metadata": {},
   "outputs": [
    {
     "name": "stdout",
     "output_type": "stream",
     "text": [
      "0    180\n",
      "1    160\n",
      "2    168\n",
      "3    135\n",
      "4    183\n",
      "Name: total_marks, dtype: int64\n"
     ]
    }
   ],
   "source": [
    "df['total_marks']=df['Marks_Engg']+df['Marks_math']\n",
    "print(df['total_marks'])"
   ]
  },
  {
   "cell_type": "code",
   "execution_count": 76,
   "metadata": {},
   "outputs": [
    {
     "name": "stdout",
     "output_type": "stream",
     "text": [
      "   Roll_No    Name  Age  Marks_math  Marks_Engg Gender  total_marks\n",
      "0      101    Riya   17          88          92      F          180\n",
      "1      102   Arjun   18          75          85      M          160\n",
      "2      103   Sneha   17          90          78      F          168\n",
      "3      104  Rakesh   19          65          70      M          135\n",
      "4      105   Aditi   18          95          88      F          183\n"
     ]
    }
   ],
   "source": [
    "print(df)"
   ]
  },
  {
   "cell_type": "code",
   "execution_count": 77,
   "metadata": {},
   "outputs": [
    {
     "name": "stdout",
     "output_type": "stream",
     "text": [
      "82.6\n"
     ]
    }
   ],
   "source": [
    "print(df['Marks_math'].mean())"
   ]
  },
  {
   "cell_type": "code",
   "execution_count": 78,
   "metadata": {},
   "outputs": [
    {
     "name": "stdout",
     "output_type": "stream",
     "text": [
      "   Roll_No   Name  Age  Marks_math  Marks_Engg Gender  total_marks\n",
      "0      101   Riya   17          88          92      F          180\n",
      "2      103  Sneha   17          90          78      F          168\n",
      "4      105  Aditi   18          95          88      F          183\n"
     ]
    }
   ],
   "source": [
    "students_female=df[df['Gender']=='F']\n",
    "print(students_female)"
   ]
  },
  {
   "cell_type": "code",
   "execution_count": 79,
   "metadata": {},
   "outputs": [
    {
     "name": "stdout",
     "output_type": "stream",
     "text": [
      "   Roll_No    Name  Age  Marks_math  Marks_Engg Gender  total_marks\n",
      "0      101    Riya   17          88          92      F          180\n",
      "1      102   Arjun   18          75          85      M          160\n",
      "2      103   Sneha   17          90          78      F          168\n",
      "3      104  Rakesh   19          65          70      M          135\n",
      "4      105   Aditi   18          95          88      F          183\n"
     ]
    }
   ],
   "source": [
    "a=df.sort_values(by='Marks_Engg',ascending=False)\n",
    "print(df)"
   ]
  },
  {
   "cell_type": "code",
   "execution_count": 80,
   "metadata": {},
   "outputs": [
    {
     "name": "stdout",
     "output_type": "stream",
     "text": [
      "   Roll_No    Name  Age  Marks_math  Marks_Engg  Gender  total_marks\n",
      "0      101    Riya   17          88          92  Female          180\n",
      "1      102   Arjun   18          75          85    Male          160\n",
      "2      103   Sneha   17          90          78  Female          168\n",
      "3      104  Rakesh   19          65          70    Male          135\n",
      "4      105   Aditi   18          95          88  Female          183\n"
     ]
    }
   ],
   "source": [
    "df['Gender']=df['Gender'].map({'F':'Female','M':'Male'})\n",
    "print(df)"
   ]
  },
  {
   "cell_type": "code",
   "execution_count": 81,
   "metadata": {},
   "outputs": [
    {
     "name": "stdout",
     "output_type": "stream",
     "text": [
      "   Roll_No    Name  Age  Marks_math  Marks_Engg  Gender  total_marks Result\n",
      "0      101    Riya   17          88          92  Female          180   Pass\n",
      "1      102   Arjun   18          75          85    Male          160   Pass\n",
      "2      103   Sneha   17          90          78  Female          168   Pass\n",
      "3      104  Rakesh   19          65          70    Male          135  False\n",
      "4      105   Aditi   18          95          88  Female          183   Pass\n"
     ]
    }
   ],
   "source": [
    "df['Result']=df['total_marks'].apply(lambda x:'Pass' if x>150 else 'False')\n",
    "print(df)"
   ]
  },
  {
   "cell_type": "code",
   "execution_count": 82,
   "metadata": {},
   "outputs": [
    {
     "name": "stdout",
     "output_type": "stream",
     "text": [
      "['RIYA', 'ARJUN', 'SNEHA', 'RAKESH', 'ADITI']\n"
     ]
    }
   ],
   "source": [
    "upper=list(map(lambda x:x.upper(),df['Name']))\n",
    "print(upper)\n"
   ]
  },
  {
   "cell_type": "code",
   "execution_count": 83,
   "metadata": {},
   "outputs": [
    {
     "name": "stdout",
     "output_type": "stream",
     "text": [
      "   Roll_No    Name  Age  Marks_math  Marks_Engg  Gender  total_marks Result\n",
      "0      101    RIYA   17          88          92  Female          180   Pass\n",
      "1      102   ARJUN   18          75          85    Male          160   Pass\n",
      "2      103   SNEHA   17          90          78  Female          168   Pass\n",
      "3      104  RAKESH   19          65          70    Male          135  False\n",
      "4      105   ADITI   18          95          88  Female          183   Pass\n"
     ]
    }
   ],
   "source": [
    "df['Name']=df['Name'].map(str.upper)\n",
    "print(df)"
   ]
  },
  {
   "cell_type": "code",
   "execution_count": 92,
   "metadata": {},
   "outputs": [
    {
     "name": "stdout",
     "output_type": "stream",
     "text": [
      "[88, 90, 95]\n"
     ]
    }
   ],
   "source": [
    "d=list(filter(lambda x:x>80, df['Marks_math']))\n",
    "print(d)"
   ]
  },
  {
   "cell_type": "code",
   "execution_count": 94,
   "metadata": {},
   "outputs": [
    {
     "name": "stdout",
     "output_type": "stream",
     "text": [
      "   Roll_No    Name  Age  Marks_math  Marks_Engg  Gender  total_marks Result  \\\n",
      "0      101    RIYA   17          88          92  Female          180   Pass   \n",
      "1      102   ARJUN   18          75          85    Male          160   Pass   \n",
      "2      103   SNEHA   17          90          78  Female          168   Pass   \n",
      "3      104  RAKESH   19          65          70    Male          135  False   \n",
      "4      105   ADITI   18          95          88  Female          183   Pass   \n",
      "\n",
      "  Grade  \n",
      "0     A  \n",
      "1     B  \n",
      "2     B  \n",
      "3     C  \n",
      "4     A  \n"
     ]
    }
   ],
   "source": [
    "df['Grade']=df['total_marks'].apply(lambda x: 'A' if x>=170 else 'B' if x>=150 else 'C')\n",
    "print(df)"
   ]
  },
  {
   "cell_type": "code",
   "execution_count": 97,
   "metadata": {},
   "outputs": [
    {
     "name": "stdout",
     "output_type": "stream",
     "text": [
      "413\n"
     ]
    }
   ],
   "source": [
    "from functools import reduce\n",
    "reduce=reduce(lambda x,y: x+y,df['Marks_math'])\n",
    "print(reduce)"
   ]
  },
  {
   "cell_type": "code",
   "execution_count": 101,
   "metadata": {},
   "outputs": [
    {
     "name": "stdout",
     "output_type": "stream",
     "text": [
      "2\n"
     ]
    }
   ],
   "source": [
    "count=(df['Age']<18).sum()\n",
    "print(count)"
   ]
  },
  {
   "cell_type": "code",
   "execution_count": 103,
   "metadata": {},
   "outputs": [
    {
     "name": "stdout",
     "output_type": "stream",
     "text": [
      "   Roll_No    Name  Age  Marks_math  Marks_Engg  Gender  total_marks Result  \\\n",
      "0      101    RIYA   17          88          92  Female          180   Pass   \n",
      "1      102   ARJUN   18          75          85    Male          160   Pass   \n",
      "2      103   SNEHA   17          90          78  Female          168   Pass   \n",
      "3      104  RAKESH   19          65          70    Male          135  False   \n",
      "4      105   ADITI   18          95          88  Female          183   Pass   \n",
      "\n",
      "  Grade  Average  \n",
      "0     A     90.0  \n",
      "1     B     80.0  \n",
      "2     B     84.0  \n",
      "3     C     67.5  \n",
      "4     A     91.5  \n"
     ]
    }
   ],
   "source": [
    "df['Average']=(df['Marks_math']+df['Marks_Engg'])/2\n",
    "print(df)"
   ]
  },
  {
   "cell_type": "code",
   "execution_count": 115,
   "metadata": {},
   "outputs": [
    {
     "name": "stdout",
     "output_type": "stream",
     "text": [
      "   Roll_No    Name  Age  Marks_math  Marks_Engg  Gender  total_marks Result  \\\n",
      "0      101    RIYA   17          88          92  Female          180   Pass   \n",
      "1      102   ARJUN   18          75          85    Male          160   Pass   \n",
      "3      104  RAKESH   19          65          70    Male          135  False   \n",
      "\n",
      "  Grade  Average  \n",
      "0     A     90.0  \n",
      "1     B     80.0  \n",
      "3     C     67.5  \n"
     ]
    }
   ],
   "source": [
    "result=df[df['Marks_Engg'] > df['Marks_math']]\n",
    "print(result)\n"
   ]
  },
  {
   "cell_type": "raw",
   "metadata": {},
   "source": []
  },
  {
   "cell_type": "code",
   "execution_count": 117,
   "metadata": {},
   "outputs": [
    {
     "data": {
      "text/plain": [
       "Gender\n",
       "Female    88.50\n",
       "Male      73.75\n",
       "Name: Average, dtype: float64"
      ]
     },
     "execution_count": 117,
     "metadata": {},
     "output_type": "execute_result"
    }
   ],
   "source": [
    "df.groupby('Gender')['Average'].mean()"
   ]
  },
  {
   "cell_type": "code",
   "execution_count": 118,
   "metadata": {},
   "outputs": [
    {
     "name": "stdout",
     "output_type": "stream",
     "text": [
      "183\n"
     ]
    }
   ],
   "source": [
    "print(df['total_marks'].max())"
   ]
  },
  {
   "cell_type": "code",
   "execution_count": null,
   "metadata": {},
   "outputs": [],
   "source": []
  },
  {
   "cell_type": "code",
   "execution_count": null,
   "metadata": {},
   "outputs": [],
   "source": []
  },
  {
   "cell_type": "code",
   "execution_count": null,
   "metadata": {},
   "outputs": [],
   "source": []
  },
  {
   "cell_type": "code",
   "execution_count": null,
   "metadata": {},
   "outputs": [],
   "source": []
  },
  {
   "cell_type": "code",
   "execution_count": null,
   "metadata": {},
   "outputs": [],
   "source": []
  },
  {
   "cell_type": "code",
   "execution_count": null,
   "metadata": {},
   "outputs": [],
   "source": []
  },
  {
   "cell_type": "code",
   "execution_count": null,
   "metadata": {},
   "outputs": [],
   "source": []
  },
  {
   "cell_type": "code",
   "execution_count": null,
   "metadata": {},
   "outputs": [],
   "source": []
  },
  {
   "cell_type": "code",
   "execution_count": null,
   "metadata": {},
   "outputs": [],
   "source": []
  },
  {
   "cell_type": "code",
   "execution_count": null,
   "metadata": {},
   "outputs": [],
   "source": []
  },
  {
   "cell_type": "code",
   "execution_count": null,
   "metadata": {},
   "outputs": [],
   "source": []
  },
  {
   "cell_type": "code",
   "execution_count": null,
   "metadata": {},
   "outputs": [],
   "source": []
  },
  {
   "cell_type": "code",
   "execution_count": null,
   "metadata": {},
   "outputs": [],
   "source": []
  },
  {
   "cell_type": "code",
   "execution_count": null,
   "metadata": {},
   "outputs": [],
   "source": []
  },
  {
   "cell_type": "code",
   "execution_count": null,
   "metadata": {},
   "outputs": [],
   "source": []
  },
  {
   "cell_type": "code",
   "execution_count": null,
   "metadata": {},
   "outputs": [],
   "source": []
  },
  {
   "cell_type": "code",
   "execution_count": null,
   "metadata": {},
   "outputs": [],
   "source": []
  },
  {
   "cell_type": "code",
   "execution_count": null,
   "metadata": {},
   "outputs": [],
   "source": []
  },
  {
   "cell_type": "code",
   "execution_count": null,
   "metadata": {},
   "outputs": [],
   "source": []
  },
  {
   "cell_type": "code",
   "execution_count": null,
   "metadata": {},
   "outputs": [],
   "source": []
  },
  {
   "cell_type": "code",
   "execution_count": null,
   "metadata": {},
   "outputs": [],
   "source": []
  },
  {
   "cell_type": "code",
   "execution_count": null,
   "metadata": {},
   "outputs": [],
   "source": []
  }
 ],
 "metadata": {
  "kernelspec": {
   "display_name": "Python 3",
   "language": "python",
   "name": "python3"
  },
  "language_info": {
   "codemirror_mode": {
    "name": "ipython",
    "version": 3
   },
   "file_extension": ".py",
   "mimetype": "text/x-python",
   "name": "python",
   "nbconvert_exporter": "python",
   "pygments_lexer": "ipython3",
   "version": "3.8.3"
  }
 },
 "nbformat": 4,
 "nbformat_minor": 4
}
